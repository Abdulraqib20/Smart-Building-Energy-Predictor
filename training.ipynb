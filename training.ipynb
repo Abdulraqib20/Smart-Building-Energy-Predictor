{
 "cells": [
  {
   "cell_type": "code",
   "execution_count": 38,
   "id": "7da38dfa-a9d7-434c-9aee-bbd3effd096f",
   "metadata": {},
   "outputs": [],
   "source": [
    "import pandas as pd\n",
    "import numpy as np\n",
    "import matplotlib.pyplot as plt\n",
    "import seaborn as sns\n",
    "sns.set_theme(style = 'white', palette = 'viridis')\n",
    "pal = sns.color_palette('viridis')\n",
    "\n",
    "from datetime import datetime\n",
    "from sklearn.preprocessing import MinMaxScaler\n",
    "from sklearn.metrics import mean_squared_error, mean_absolute_error, r2_score, root_mean_squared_error\n",
    "import tensorflow as tf\n",
    "import keras\n",
    "from keras.models import load_model\n",
    "from tensorflow.keras.models import Sequential\n",
    "from tensorflow.keras.layers import LSTM, Dense, Dropout\n",
    "from tensorflow.keras.callbacks import EarlyStopping\n",
    "\n",
    "import category_encoders as ce # i imported this for encoding the categorical/object variables\n",
    "\n",
    "import warnings\n",
    "warnings.filterwarnings('ignore')"
   ]
  },
  {
   "cell_type": "code",
   "execution_count": 39,
   "id": "ff091962-cad8-49b2-b228-0c82c2d7872c",
   "metadata": {},
   "outputs": [
    {
     "data": {
      "text/html": [
       "<div>\n",
       "<style scoped>\n",
       "    .dataframe tbody tr th:only-of-type {\n",
       "        vertical-align: middle;\n",
       "    }\n",
       "\n",
       "    .dataframe tbody tr th {\n",
       "        vertical-align: top;\n",
       "    }\n",
       "\n",
       "    .dataframe thead th {\n",
       "        text-align: right;\n",
       "    }\n",
       "</style>\n",
       "<table border=\"1\" class=\"dataframe\">\n",
       "  <thead>\n",
       "    <tr style=\"text-align: right;\">\n",
       "      <th></th>\n",
       "      <th>Time</th>\n",
       "      <th>Day</th>\n",
       "      <th>Temp</th>\n",
       "      <th>Humidity</th>\n",
       "      <th>Light_Intensity</th>\n",
       "      <th>Occupancy</th>\n",
       "      <th>Energy</th>\n",
       "    </tr>\n",
       "  </thead>\n",
       "  <tbody>\n",
       "    <tr>\n",
       "      <th>0</th>\n",
       "      <td>07:00</td>\n",
       "      <td>Sunday</td>\n",
       "      <td>21.2</td>\n",
       "      <td>63.2</td>\n",
       "      <td>295</td>\n",
       "      <td>0</td>\n",
       "      <td>3.79</td>\n",
       "    </tr>\n",
       "    <tr>\n",
       "      <th>1</th>\n",
       "      <td>07:20</td>\n",
       "      <td>Sunday</td>\n",
       "      <td>22.0</td>\n",
       "      <td>61.5</td>\n",
       "      <td>245</td>\n",
       "      <td>0</td>\n",
       "      <td>3.61</td>\n",
       "    </tr>\n",
       "    <tr>\n",
       "      <th>2</th>\n",
       "      <td>07:40</td>\n",
       "      <td>Sunday</td>\n",
       "      <td>21.2</td>\n",
       "      <td>63.7</td>\n",
       "      <td>326</td>\n",
       "      <td>0</td>\n",
       "      <td>3.55</td>\n",
       "    </tr>\n",
       "    <tr>\n",
       "      <th>3</th>\n",
       "      <td>08:00</td>\n",
       "      <td>Sunday</td>\n",
       "      <td>22.8</td>\n",
       "      <td>59.2</td>\n",
       "      <td>275</td>\n",
       "      <td>0</td>\n",
       "      <td>3.98</td>\n",
       "    </tr>\n",
       "    <tr>\n",
       "      <th>4</th>\n",
       "      <td>08:20</td>\n",
       "      <td>Sunday</td>\n",
       "      <td>22.4</td>\n",
       "      <td>59.2</td>\n",
       "      <td>323</td>\n",
       "      <td>0</td>\n",
       "      <td>4.03</td>\n",
       "    </tr>\n",
       "  </tbody>\n",
       "</table>\n",
       "</div>"
      ],
      "text/plain": [
       "    Time     Day  Temp  Humidity  Light_Intensity  Occupancy  Energy\n",
       "0  07:00  Sunday  21.2      63.2              295          0    3.79\n",
       "1  07:20  Sunday  22.0      61.5              245          0    3.61\n",
       "2  07:40  Sunday  21.2      63.7              326          0    3.55\n",
       "3  08:00  Sunday  22.8      59.2              275          0    3.98\n",
       "4  08:20  Sunday  22.4      59.2              323          0    4.03"
      ]
     },
     "metadata": {},
     "output_type": "display_data"
    },
    {
     "data": {
      "text/html": [
       "<div>\n",
       "<style scoped>\n",
       "    .dataframe tbody tr th:only-of-type {\n",
       "        vertical-align: middle;\n",
       "    }\n",
       "\n",
       "    .dataframe tbody tr th {\n",
       "        vertical-align: top;\n",
       "    }\n",
       "\n",
       "    .dataframe thead th {\n",
       "        text-align: right;\n",
       "    }\n",
       "</style>\n",
       "<table border=\"1\" class=\"dataframe\">\n",
       "  <thead>\n",
       "    <tr style=\"text-align: right;\">\n",
       "      <th></th>\n",
       "      <th>Time</th>\n",
       "      <th>Day</th>\n",
       "      <th>Temp</th>\n",
       "      <th>Humidity</th>\n",
       "      <th>Light_Intensity</th>\n",
       "      <th>Occupancy</th>\n",
       "      <th>Energy</th>\n",
       "    </tr>\n",
       "  </thead>\n",
       "  <tbody>\n",
       "    <tr>\n",
       "      <th>1995</th>\n",
       "      <td>00:00</td>\n",
       "      <td>Sunday</td>\n",
       "      <td>13.6</td>\n",
       "      <td>77.2</td>\n",
       "      <td>5</td>\n",
       "      <td>0</td>\n",
       "      <td>4.87</td>\n",
       "    </tr>\n",
       "    <tr>\n",
       "      <th>1996</th>\n",
       "      <td>00:20</td>\n",
       "      <td>Sunday</td>\n",
       "      <td>14.5</td>\n",
       "      <td>73.8</td>\n",
       "      <td>2</td>\n",
       "      <td>0</td>\n",
       "      <td>4.14</td>\n",
       "    </tr>\n",
       "    <tr>\n",
       "      <th>1997</th>\n",
       "      <td>00:40</td>\n",
       "      <td>Sunday</td>\n",
       "      <td>14.5</td>\n",
       "      <td>76.7</td>\n",
       "      <td>8</td>\n",
       "      <td>0</td>\n",
       "      <td>3.76</td>\n",
       "    </tr>\n",
       "    <tr>\n",
       "      <th>1998</th>\n",
       "      <td>01:00</td>\n",
       "      <td>Sunday</td>\n",
       "      <td>14.6</td>\n",
       "      <td>75.7</td>\n",
       "      <td>6</td>\n",
       "      <td>0</td>\n",
       "      <td>5.10</td>\n",
       "    </tr>\n",
       "    <tr>\n",
       "      <th>1999</th>\n",
       "      <td>01:20</td>\n",
       "      <td>Sunday</td>\n",
       "      <td>15.5</td>\n",
       "      <td>74.0</td>\n",
       "      <td>8</td>\n",
       "      <td>0</td>\n",
       "      <td>4.63</td>\n",
       "    </tr>\n",
       "  </tbody>\n",
       "</table>\n",
       "</div>"
      ],
      "text/plain": [
       "       Time     Day  Temp  Humidity  Light_Intensity  Occupancy  Energy\n",
       "1995  00:00  Sunday  13.6      77.2                5          0    4.87\n",
       "1996  00:20  Sunday  14.5      73.8                2          0    4.14\n",
       "1997  00:40  Sunday  14.5      76.7                8          0    3.76\n",
       "1998  01:00  Sunday  14.6      75.7                6          0    5.10\n",
       "1999  01:20  Sunday  15.5      74.0                8          0    4.63"
      ]
     },
     "metadata": {},
     "output_type": "display_data"
    }
   ],
   "source": [
    "df = pd.read_csv('generated_two.csv')\n",
    "display(df.head()) # display the first 5 rows of the dataset\n",
    "display(df.tail()) # display the last 5 rows of the dataset"
   ]
  },
  {
   "cell_type": "code",
   "execution_count": 40,
   "id": "6b80a552-a4ad-44a6-ba17-d6328335e67a",
   "metadata": {},
   "outputs": [
    {
     "data": {
      "text/plain": [
       "(2000, 7)"
      ]
     },
     "execution_count": 40,
     "metadata": {},
     "output_type": "execute_result"
    }
   ],
   "source": [
    "df.shape"
   ]
  },
  {
   "cell_type": "code",
   "execution_count": 41,
   "id": "86ebe9af-e0fc-471b-8001-7b8a691e8c82",
   "metadata": {},
   "outputs": [
    {
     "name": "stdout",
     "output_type": "stream",
     "text": [
      "<class 'pandas.core.frame.DataFrame'>\n",
      "RangeIndex: 2000 entries, 0 to 1999\n",
      "Data columns (total 7 columns):\n",
      " #   Column           Non-Null Count  Dtype  \n",
      "---  ------           --------------  -----  \n",
      " 0   Time             2000 non-null   object \n",
      " 1   Day              2000 non-null   object \n",
      " 2   Temp             2000 non-null   float64\n",
      " 3   Humidity         2000 non-null   float64\n",
      " 4   Light_Intensity  2000 non-null   int64  \n",
      " 5   Occupancy        2000 non-null   int64  \n",
      " 6   Energy           2000 non-null   float64\n",
      "dtypes: float64(3), int64(2), object(2)\n",
      "memory usage: 109.5+ KB\n"
     ]
    }
   ],
   "source": [
    "df.info()"
   ]
  },
  {
   "cell_type": "code",
   "execution_count": 42,
   "id": "6d323eb5-ba63-411c-b29d-877e277e0652",
   "metadata": {},
   "outputs": [
    {
     "data": {
      "text/plain": [
       "Occupancy\n",
       "0    0.702\n",
       "1    0.298\n",
       "Name: proportion, dtype: float64"
      ]
     },
     "execution_count": 42,
     "metadata": {},
     "output_type": "execute_result"
    }
   ],
   "source": [
    "df['Occupancy'].value_counts(normalize=True)"
   ]
  },
  {
   "cell_type": "code",
   "execution_count": 43,
   "id": "8bcbc7f2-20c9-42f5-8e7c-0680f3f71d9f",
   "metadata": {},
   "outputs": [
    {
     "data": {
      "text/html": [
       "<div>\n",
       "<style scoped>\n",
       "    .dataframe tbody tr th:only-of-type {\n",
       "        vertical-align: middle;\n",
       "    }\n",
       "\n",
       "    .dataframe tbody tr th {\n",
       "        vertical-align: top;\n",
       "    }\n",
       "\n",
       "    .dataframe thead th {\n",
       "        text-align: right;\n",
       "    }\n",
       "</style>\n",
       "<table border=\"1\" class=\"dataframe\">\n",
       "  <thead>\n",
       "    <tr style=\"text-align: right;\">\n",
       "      <th></th>\n",
       "      <th>Temp</th>\n",
       "      <th>Humidity</th>\n",
       "      <th>Light_Intensity</th>\n",
       "      <th>Occupancy</th>\n",
       "      <th>Energy</th>\n",
       "    </tr>\n",
       "  </thead>\n",
       "  <tbody>\n",
       "    <tr>\n",
       "      <th>count</th>\n",
       "      <td>2000.000000</td>\n",
       "      <td>2000.000000</td>\n",
       "      <td>2000.000000</td>\n",
       "      <td>2000.000000</td>\n",
       "      <td>2000.000000</td>\n",
       "    </tr>\n",
       "    <tr>\n",
       "      <th>mean</th>\n",
       "      <td>20.033550</td>\n",
       "      <td>59.912500</td>\n",
       "      <td>252.529500</td>\n",
       "      <td>0.298000</td>\n",
       "      <td>7.126735</td>\n",
       "    </tr>\n",
       "    <tr>\n",
       "      <th>std</th>\n",
       "      <td>3.817697</td>\n",
       "      <td>8.069426</td>\n",
       "      <td>316.731801</td>\n",
       "      <td>0.457494</td>\n",
       "      <td>2.483395</td>\n",
       "    </tr>\n",
       "    <tr>\n",
       "      <th>min</th>\n",
       "      <td>12.400000</td>\n",
       "      <td>40.400000</td>\n",
       "      <td>0.000000</td>\n",
       "      <td>0.000000</td>\n",
       "      <td>2.730000</td>\n",
       "    </tr>\n",
       "    <tr>\n",
       "      <th>25%</th>\n",
       "      <td>16.900000</td>\n",
       "      <td>53.600000</td>\n",
       "      <td>5.000000</td>\n",
       "      <td>0.000000</td>\n",
       "      <td>5.200000</td>\n",
       "    </tr>\n",
       "    <tr>\n",
       "      <th>50%</th>\n",
       "      <td>20.050000</td>\n",
       "      <td>59.700000</td>\n",
       "      <td>9.000000</td>\n",
       "      <td>0.000000</td>\n",
       "      <td>6.460000</td>\n",
       "    </tr>\n",
       "    <tr>\n",
       "      <th>75%</th>\n",
       "      <td>23.200000</td>\n",
       "      <td>66.300000</td>\n",
       "      <td>499.250000</td>\n",
       "      <td>1.000000</td>\n",
       "      <td>8.855000</td>\n",
       "    </tr>\n",
       "    <tr>\n",
       "      <th>max</th>\n",
       "      <td>27.700000</td>\n",
       "      <td>78.100000</td>\n",
       "      <td>1258.000000</td>\n",
       "      <td>1.000000</td>\n",
       "      <td>14.610000</td>\n",
       "    </tr>\n",
       "  </tbody>\n",
       "</table>\n",
       "</div>"
      ],
      "text/plain": [
       "              Temp     Humidity  Light_Intensity    Occupancy       Energy\n",
       "count  2000.000000  2000.000000      2000.000000  2000.000000  2000.000000\n",
       "mean     20.033550    59.912500       252.529500     0.298000     7.126735\n",
       "std       3.817697     8.069426       316.731801     0.457494     2.483395\n",
       "min      12.400000    40.400000         0.000000     0.000000     2.730000\n",
       "25%      16.900000    53.600000         5.000000     0.000000     5.200000\n",
       "50%      20.050000    59.700000         9.000000     0.000000     6.460000\n",
       "75%      23.200000    66.300000       499.250000     1.000000     8.855000\n",
       "max      27.700000    78.100000      1258.000000     1.000000    14.610000"
      ]
     },
     "execution_count": 43,
     "metadata": {},
     "output_type": "execute_result"
    }
   ],
   "source": [
    "df.describe()"
   ]
  },
  {
   "cell_type": "markdown",
   "id": "9678aa2c-78b1-43ff-a6af-a72689f95e32",
   "metadata": {},
   "source": [
    "# Preparing data"
   ]
  },
  {
   "cell_type": "code",
   "execution_count": 44,
   "id": "2fa98095-eafd-4030-9adf-ecee2a7ba64b",
   "metadata": {},
   "outputs": [
    {
     "data": {
      "text/plain": [
       "0       420\n",
       "1       440\n",
       "2       460\n",
       "3       480\n",
       "4       500\n",
       "       ... \n",
       "1995      0\n",
       "1996     20\n",
       "1997     40\n",
       "1998     60\n",
       "1999     80\n",
       "Name: Minutes, Length: 2000, dtype: int32"
      ]
     },
     "execution_count": 44,
     "metadata": {},
     "output_type": "execute_result"
    }
   ],
   "source": [
    "# I converted time to a numerical feature (minutes since midnight)\n",
    "df['Minutes'] = pd.to_datetime(df['Time'], format='%H:%M').dt.hour * 60 + pd.to_datetime(df['Time'], format='%H:%M').dt.minute\n",
    "\n",
    "df['Minutes']"
   ]
  },
  {
   "cell_type": "code",
   "execution_count": 45,
   "id": "459bdb57",
   "metadata": {},
   "outputs": [
    {
     "data": {
      "text/plain": [
       "Index(['Time', 'Day', 'Temp', 'Humidity', 'Light_Intensity', 'Occupancy',\n",
       "       'Energy', 'Minutes'],\n",
       "      dtype='object')"
      ]
     },
     "execution_count": 45,
     "metadata": {},
     "output_type": "execute_result"
    }
   ],
   "source": [
    "df.columns"
   ]
  },
  {
   "cell_type": "code",
   "execution_count": 46,
   "id": "46644c73-0bcc-4263-92bd-99e0c0f3f4ce",
   "metadata": {},
   "outputs": [],
   "source": [
    "df = pd.get_dummies(df, columns=['Day'])\n",
    "\n",
    "features_to_use = ['Minutes', 'Temp', 'Humidity', 'Light_Intensity', 'Occupancy'] + [col for col in df.columns if col.startswith('Day_')]\n",
    "X = df[features_to_use]\n",
    "y = df['Energy']"
   ]
  },
  {
   "cell_type": "code",
   "execution_count": 47,
   "id": "95823691",
   "metadata": {},
   "outputs": [
    {
     "data": {
      "text/html": [
       "<div>\n",
       "<style scoped>\n",
       "    .dataframe tbody tr th:only-of-type {\n",
       "        vertical-align: middle;\n",
       "    }\n",
       "\n",
       "    .dataframe tbody tr th {\n",
       "        vertical-align: top;\n",
       "    }\n",
       "\n",
       "    .dataframe thead th {\n",
       "        text-align: right;\n",
       "    }\n",
       "</style>\n",
       "<table border=\"1\" class=\"dataframe\">\n",
       "  <thead>\n",
       "    <tr style=\"text-align: right;\">\n",
       "      <th></th>\n",
       "      <th>Minutes</th>\n",
       "      <th>Temp</th>\n",
       "      <th>Humidity</th>\n",
       "      <th>Light_Intensity</th>\n",
       "      <th>Occupancy</th>\n",
       "      <th>Day_Friday</th>\n",
       "      <th>Day_Monday</th>\n",
       "      <th>Day_Saturday</th>\n",
       "      <th>Day_Sunday</th>\n",
       "      <th>Day_Thursday</th>\n",
       "      <th>Day_Tuesday</th>\n",
       "      <th>Day_Wednesday</th>\n",
       "    </tr>\n",
       "  </thead>\n",
       "  <tbody>\n",
       "    <tr>\n",
       "      <th>0</th>\n",
       "      <td>420</td>\n",
       "      <td>21.2</td>\n",
       "      <td>63.2</td>\n",
       "      <td>295</td>\n",
       "      <td>0</td>\n",
       "      <td>False</td>\n",
       "      <td>False</td>\n",
       "      <td>False</td>\n",
       "      <td>True</td>\n",
       "      <td>False</td>\n",
       "      <td>False</td>\n",
       "      <td>False</td>\n",
       "    </tr>\n",
       "    <tr>\n",
       "      <th>1</th>\n",
       "      <td>440</td>\n",
       "      <td>22.0</td>\n",
       "      <td>61.5</td>\n",
       "      <td>245</td>\n",
       "      <td>0</td>\n",
       "      <td>False</td>\n",
       "      <td>False</td>\n",
       "      <td>False</td>\n",
       "      <td>True</td>\n",
       "      <td>False</td>\n",
       "      <td>False</td>\n",
       "      <td>False</td>\n",
       "    </tr>\n",
       "    <tr>\n",
       "      <th>2</th>\n",
       "      <td>460</td>\n",
       "      <td>21.2</td>\n",
       "      <td>63.7</td>\n",
       "      <td>326</td>\n",
       "      <td>0</td>\n",
       "      <td>False</td>\n",
       "      <td>False</td>\n",
       "      <td>False</td>\n",
       "      <td>True</td>\n",
       "      <td>False</td>\n",
       "      <td>False</td>\n",
       "      <td>False</td>\n",
       "    </tr>\n",
       "    <tr>\n",
       "      <th>3</th>\n",
       "      <td>480</td>\n",
       "      <td>22.8</td>\n",
       "      <td>59.2</td>\n",
       "      <td>275</td>\n",
       "      <td>0</td>\n",
       "      <td>False</td>\n",
       "      <td>False</td>\n",
       "      <td>False</td>\n",
       "      <td>True</td>\n",
       "      <td>False</td>\n",
       "      <td>False</td>\n",
       "      <td>False</td>\n",
       "    </tr>\n",
       "    <tr>\n",
       "      <th>4</th>\n",
       "      <td>500</td>\n",
       "      <td>22.4</td>\n",
       "      <td>59.2</td>\n",
       "      <td>323</td>\n",
       "      <td>0</td>\n",
       "      <td>False</td>\n",
       "      <td>False</td>\n",
       "      <td>False</td>\n",
       "      <td>True</td>\n",
       "      <td>False</td>\n",
       "      <td>False</td>\n",
       "      <td>False</td>\n",
       "    </tr>\n",
       "  </tbody>\n",
       "</table>\n",
       "</div>"
      ],
      "text/plain": [
       "   Minutes  Temp  Humidity  Light_Intensity  Occupancy  Day_Friday  \\\n",
       "0      420  21.2      63.2              295          0       False   \n",
       "1      440  22.0      61.5              245          0       False   \n",
       "2      460  21.2      63.7              326          0       False   \n",
       "3      480  22.8      59.2              275          0       False   \n",
       "4      500  22.4      59.2              323          0       False   \n",
       "\n",
       "   Day_Monday  Day_Saturday  Day_Sunday  Day_Thursday  Day_Tuesday  \\\n",
       "0       False         False        True         False        False   \n",
       "1       False         False        True         False        False   \n",
       "2       False         False        True         False        False   \n",
       "3       False         False        True         False        False   \n",
       "4       False         False        True         False        False   \n",
       "\n",
       "   Day_Wednesday  \n",
       "0          False  \n",
       "1          False  \n",
       "2          False  \n",
       "3          False  \n",
       "4          False  "
      ]
     },
     "execution_count": 47,
     "metadata": {},
     "output_type": "execute_result"
    }
   ],
   "source": [
    "# display X\n",
    "X.head()"
   ]
  },
  {
   "cell_type": "code",
   "execution_count": 48,
   "id": "cf6e28c3-14a9-4c92-a499-14ca57aeb3c8",
   "metadata": {},
   "outputs": [],
   "source": [
    "feature_scaler = MinMaxScaler()\n",
    "X_scaled = feature_scaler.fit_transform(X.values)\n",
    "\n",
    "target_scaler = MinMaxScaler()\n",
    "y_scaled = target_scaler.fit_transform(y.values.reshape(-1, 1))"
   ]
  },
  {
   "cell_type": "code",
   "execution_count": 49,
   "id": "d6d96b8e",
   "metadata": {},
   "outputs": [
    {
     "name": "stdout",
     "output_type": "stream",
     "text": [
      "The scaled features have 2000 rows and 12 columns\n",
      "\n",
      "The scaled target variable has 2000 rows and 1 columns\n"
     ]
    }
   ],
   "source": [
    "print('The scaled features have {} rows and {} columns'.format(X_scaled.shape[0], X_scaled.shape[1]))\n",
    "print()\n",
    "print('The scaled target variable has {} rows and {} columns'.format(y_scaled.shape[0], y_scaled.shape[1]))"
   ]
  },
  {
   "cell_type": "markdown",
   "id": "884dc144-cb5a-4a4e-ad03-c376960a1ede",
   "metadata": {},
   "source": [
    "# building the LSTM model"
   ]
  },
  {
   "cell_type": "code",
   "execution_count": 52,
   "id": "a7d33aac-b890-4426-ba83-a9f4670ffb8c",
   "metadata": {},
   "outputs": [],
   "source": [
    "# Function to create sequences\n",
    "def create_sequences(X, y, seq_length):\n",
    "    X_seq, y_seq = [], []\n",
    "    for i in range(len(X) - seq_length):\n",
    "        X_seq.append(X[i:i + seq_length])\n",
    "        y_seq.append(y[i + seq_length])\n",
    "    return np.array(X_seq), np.array(y_seq)\n",
    "\n",
    "seq_length = 9 # Define sequence length (3 hours = 9 timestamps)\n",
    "\n",
    "X_seq, y_seq = create_sequences(X_scaled, y_scaled, seq_length) # Create sequences for features and target"
   ]
  },
  {
   "cell_type": "code",
   "execution_count": 53,
   "id": "f7fd2203-6299-4ae6-9c5a-923043ef622d",
   "metadata": {},
   "outputs": [],
   "source": [
    "# Split into training and testing sets (80-20 split)\n",
    "train_size = int(len(X_seq) * 0.8)\n",
    "X_train, X_test = X_seq[:train_size], X_seq[train_size:]\n",
    "y_train, y_test = y_seq[:train_size], y_seq[train_size:]"
   ]
  },
  {
   "cell_type": "code",
   "execution_count": 54,
   "id": "e5a2519b-b1cf-41ad-a026-d624a1cfef9f",
   "metadata": {},
   "outputs": [],
   "source": [
    "################################################### LSTM model Architecture ###################################################\n",
    "\n",
    "# model = Sequential([\n",
    "#     LSTM(128, activation='relu', return_sequences=True, input_shape=(seq_length, X.shape[1])),\n",
    "#     Dropout(0.2),\n",
    "#     LSTM(64, activation='relu'),\n",
    "#     Dropout(0.2),\n",
    "#     Dense(32, activation='relu'),\n",
    "#     Dense(1)\n",
    "# ])\n",
    "\n",
    "\n",
    "model = Sequential([\n",
    "    LSTM(256, activation='relu', return_sequences=True, input_shape=(seq_length, X_seq.shape[2])),\n",
    "    Dropout(0.3),\n",
    "    LSTM(128, activation='relu', return_sequences=True),\n",
    "    Dropout(0.3),\n",
    "    LSTM(64, activation='relu'),\n",
    "    Dropout(0.3),\n",
    "    Dense(32, activation='relu'),\n",
    "    Dense(1)  # Output layer for regression\n",
    "])"
   ]
  },
  {
   "cell_type": "code",
   "execution_count": 55,
   "id": "c12b50ca",
   "metadata": {},
   "outputs": [],
   "source": [
    "model.compile(optimizer='adam', loss='mse', metrics=['mae'])  # Compile the model"
   ]
  },
  {
   "cell_type": "code",
   "execution_count": 56,
   "id": "7300c979-20a8-41bd-82ca-f4ce31aa7334",
   "metadata": {},
   "outputs": [
    {
     "name": "stdout",
     "output_type": "stream",
     "text": [
      "Epoch 1/100\n",
      "\u001b[1m20/20\u001b[0m \u001b[32m━━━━━━━━━━━━━━━━━━━━\u001b[0m\u001b[37m\u001b[0m \u001b[1m8s\u001b[0m 74ms/step - loss: 0.1419 - val_loss: 0.0162\n",
      "Epoch 2/100\n",
      "\u001b[1m20/20\u001b[0m \u001b[32m━━━━━━━━━━━━━━━━━━━━\u001b[0m\u001b[37m\u001b[0m \u001b[1m1s\u001b[0m 54ms/step - loss: 0.0298 - val_loss: 0.0144\n",
      "Epoch 3/100\n",
      "\u001b[1m20/20\u001b[0m \u001b[32m━━━━━━━━━━━━━━━━━━━━\u001b[0m\u001b[37m\u001b[0m \u001b[1m1s\u001b[0m 47ms/step - loss: 0.0217 - val_loss: 0.0158\n",
      "Epoch 4/100\n",
      "\u001b[1m20/20\u001b[0m \u001b[32m━━━━━━━━━━━━━━━━━━━━\u001b[0m\u001b[37m\u001b[0m \u001b[1m1s\u001b[0m 43ms/step - loss: 0.0191 - val_loss: 0.0109\n",
      "Epoch 5/100\n",
      "\u001b[1m20/20\u001b[0m \u001b[32m━━━━━━━━━━━━━━━━━━━━\u001b[0m\u001b[37m\u001b[0m \u001b[1m1s\u001b[0m 50ms/step - loss: 0.0165 - val_loss: 0.0178\n",
      "Epoch 6/100\n",
      "\u001b[1m20/20\u001b[0m \u001b[32m━━━━━━━━━━━━━━━━━━━━\u001b[0m\u001b[37m\u001b[0m \u001b[1m1s\u001b[0m 46ms/step - loss: 0.0171 - val_loss: 0.0120\n",
      "Epoch 7/100\n",
      "\u001b[1m20/20\u001b[0m \u001b[32m━━━━━━━━━━━━━━━━━━━━\u001b[0m\u001b[37m\u001b[0m \u001b[1m1s\u001b[0m 48ms/step - loss: 0.0163 - val_loss: 0.0168\n",
      "Epoch 8/100\n",
      "\u001b[1m20/20\u001b[0m \u001b[32m━━━━━━━━━━━━━━━━━━━━\u001b[0m\u001b[37m\u001b[0m \u001b[1m1s\u001b[0m 51ms/step - loss: 0.0167 - val_loss: 0.0110\n",
      "Epoch 9/100\n",
      "\u001b[1m20/20\u001b[0m \u001b[32m━━━━━━━━━━━━━━━━━━━━\u001b[0m\u001b[37m\u001b[0m \u001b[1m1s\u001b[0m 49ms/step - loss: 0.0173 - val_loss: 0.0117\n",
      "Epoch 10/100\n",
      "\u001b[1m20/20\u001b[0m \u001b[32m━━━━━━━━━━━━━━━━━━━━\u001b[0m\u001b[37m\u001b[0m \u001b[1m1s\u001b[0m 45ms/step - loss: 0.0154 - val_loss: 0.0154\n",
      "Epoch 11/100\n",
      "\u001b[1m20/20\u001b[0m \u001b[32m━━━━━━━━━━━━━━━━━━━━\u001b[0m\u001b[37m\u001b[0m \u001b[1m1s\u001b[0m 46ms/step - loss: 0.0146 - val_loss: 0.0100\n",
      "Epoch 12/100\n",
      "\u001b[1m20/20\u001b[0m \u001b[32m━━━━━━━━━━━━━━━━━━━━\u001b[0m\u001b[37m\u001b[0m \u001b[1m1s\u001b[0m 49ms/step - loss: 0.0134 - val_loss: 0.0116\n",
      "Epoch 13/100\n",
      "\u001b[1m20/20\u001b[0m \u001b[32m━━━━━━━━━━━━━━━━━━━━\u001b[0m\u001b[37m\u001b[0m \u001b[1m1s\u001b[0m 51ms/step - loss: 0.0137 - val_loss: 0.0129\n",
      "Epoch 14/100\n",
      "\u001b[1m20/20\u001b[0m \u001b[32m━━━━━━━━━━━━━━━━━━━━\u001b[0m\u001b[37m\u001b[0m \u001b[1m1s\u001b[0m 47ms/step - loss: 0.0143 - val_loss: 0.0114\n",
      "Epoch 15/100\n",
      "\u001b[1m20/20\u001b[0m \u001b[32m━━━━━━━━━━━━━━━━━━━━\u001b[0m\u001b[37m\u001b[0m \u001b[1m1s\u001b[0m 46ms/step - loss: 0.0137 - val_loss: 0.0165\n",
      "Epoch 16/100\n",
      "\u001b[1m20/20\u001b[0m \u001b[32m━━━━━━━━━━━━━━━━━━━━\u001b[0m\u001b[37m\u001b[0m \u001b[1m1s\u001b[0m 50ms/step - loss: 0.0129 - val_loss: 0.0097\n",
      "Epoch 17/100\n",
      "\u001b[1m20/20\u001b[0m \u001b[32m━━━━━━━━━━━━━━━━━━━━\u001b[0m\u001b[37m\u001b[0m \u001b[1m1s\u001b[0m 64ms/step - loss: 0.0126 - val_loss: 0.0117\n",
      "Epoch 18/100\n",
      "\u001b[1m20/20\u001b[0m \u001b[32m━━━━━━━━━━━━━━━━━━━━\u001b[0m\u001b[37m\u001b[0m \u001b[1m1s\u001b[0m 73ms/step - loss: 0.0128 - val_loss: 0.0121\n",
      "Epoch 19/100\n",
      "\u001b[1m20/20\u001b[0m \u001b[32m━━━━━━━━━━━━━━━━━━━━\u001b[0m\u001b[37m\u001b[0m \u001b[1m1s\u001b[0m 68ms/step - loss: 0.0129 - val_loss: 0.0104\n",
      "Epoch 20/100\n",
      "\u001b[1m20/20\u001b[0m \u001b[32m━━━━━━━━━━━━━━━━━━━━\u001b[0m\u001b[37m\u001b[0m \u001b[1m2s\u001b[0m 89ms/step - loss: 0.0118 - val_loss: 0.0109\n",
      "Epoch 21/100\n",
      "\u001b[1m20/20\u001b[0m \u001b[32m━━━━━━━━━━━━━━━━━━━━\u001b[0m\u001b[37m\u001b[0m \u001b[1m2s\u001b[0m 84ms/step - loss: 0.0130 - val_loss: 0.0097\n",
      "Epoch 22/100\n",
      "\u001b[1m20/20\u001b[0m \u001b[32m━━━━━━━━━━━━━━━━━━━━\u001b[0m\u001b[37m\u001b[0m \u001b[1m2s\u001b[0m 78ms/step - loss: 0.0130 - val_loss: 0.0146\n",
      "Epoch 23/100\n",
      "\u001b[1m20/20\u001b[0m \u001b[32m━━━━━━━━━━━━━━━━━━━━\u001b[0m\u001b[37m\u001b[0m \u001b[1m1s\u001b[0m 65ms/step - loss: 0.0125 - val_loss: 0.0148\n",
      "Epoch 24/100\n",
      "\u001b[1m20/20\u001b[0m \u001b[32m━━━━━━━━━━━━━━━━━━━━\u001b[0m\u001b[37m\u001b[0m \u001b[1m1s\u001b[0m 71ms/step - loss: 0.0119 - val_loss: 0.0107\n",
      "Epoch 25/100\n",
      "\u001b[1m20/20\u001b[0m \u001b[32m━━━━━━━━━━━━━━━━━━━━\u001b[0m\u001b[37m\u001b[0m \u001b[1m2s\u001b[0m 75ms/step - loss: 0.0107 - val_loss: 0.0107\n",
      "Epoch 26/100\n",
      "\u001b[1m20/20\u001b[0m \u001b[32m━━━━━━━━━━━━━━━━━━━━\u001b[0m\u001b[37m\u001b[0m \u001b[1m1s\u001b[0m 64ms/step - loss: 0.0123 - val_loss: 0.0112\n",
      "Epoch 27/100\n",
      "\u001b[1m20/20\u001b[0m \u001b[32m━━━━━━━━━━━━━━━━━━━━\u001b[0m\u001b[37m\u001b[0m \u001b[1m1s\u001b[0m 74ms/step - loss: 0.0113 - val_loss: 0.0120\n",
      "Epoch 28/100\n",
      "\u001b[1m20/20\u001b[0m \u001b[32m━━━━━━━━━━━━━━━━━━━━\u001b[0m\u001b[37m\u001b[0m \u001b[1m1s\u001b[0m 61ms/step - loss: 0.0109 - val_loss: 0.0110\n",
      "Epoch 29/100\n",
      "\u001b[1m20/20\u001b[0m \u001b[32m━━━━━━━━━━━━━━━━━━━━\u001b[0m\u001b[37m\u001b[0m \u001b[1m1s\u001b[0m 68ms/step - loss: 0.0120 - val_loss: 0.0133\n",
      "Epoch 30/100\n",
      "\u001b[1m20/20\u001b[0m \u001b[32m━━━━━━━━━━━━━━━━━━━━\u001b[0m\u001b[37m\u001b[0m \u001b[1m1s\u001b[0m 67ms/step - loss: 0.0125 - val_loss: 0.0106\n",
      "Epoch 31/100\n",
      "\u001b[1m20/20\u001b[0m \u001b[32m━━━━━━━━━━━━━━━━━━━━\u001b[0m\u001b[37m\u001b[0m \u001b[1m1s\u001b[0m 66ms/step - loss: 0.0116 - val_loss: 0.0110\n"
     ]
    },
    {
     "data": {
      "text/plain": [
       "<keras.src.callbacks.history.History at 0x26a86703310>"
      ]
     },
     "execution_count": 56,
     "metadata": {},
     "output_type": "execute_result"
    }
   ],
   "source": [
    "model.compile(optimizer='adam', loss='mse')  # Compile the model\n",
    "\n",
    "\n",
    "early_stopping = EarlyStopping(\n",
    "    monitor='val_loss',\n",
    "    patience=10,\n",
    "    restore_best_weights=True\n",
    ")   # early stopping to prevent overfitting\n",
    "\n",
    "\n",
    "# model training\n",
    "history = model.fit(\n",
    "    X_train, y_train,\n",
    "    epochs=100,\n",
    "    batch_size=64,\n",
    "    validation_split=0.2,\n",
    "    callbacks=[early_stopping],\n",
    "    verbose=1\n",
    ")\n",
    "history"
   ]
  },
  {
   "cell_type": "code",
   "execution_count": 57,
   "id": "0f781a55",
   "metadata": {},
   "outputs": [
    {
     "data": {
      "text/plain": [
       "0.010661891661584377"
      ]
     },
     "execution_count": 57,
     "metadata": {},
     "output_type": "execute_result"
    }
   ],
   "source": [
    "# Evaluate the model\n",
    "results = model.evaluate(X_test, y_test, verbose=0)\n",
    "results"
   ]
  },
  {
   "cell_type": "code",
   "execution_count": 58,
   "id": "61543855",
   "metadata": {},
   "outputs": [
    {
     "name": "stdout",
     "output_type": "stream",
     "text": [
      "\u001b[1m13/13\u001b[0m \u001b[32m━━━━━━━━━━━━━━━━━━━━\u001b[0m\u001b[37m\u001b[0m \u001b[1m1s\u001b[0m 52ms/step\n"
     ]
    }
   ],
   "source": [
    "y_pred_scaled = model.predict(X_test)  ################## making predictions ##################"
   ]
  },
  {
   "cell_type": "code",
   "execution_count": 59,
   "id": "3032317d-ce38-4fed-b3ab-279337427afa",
   "metadata": {},
   "outputs": [],
   "source": [
    "######################## also, inverse transform predictions and actual values #######################\n",
    "y_pred = target_scaler.inverse_transform(y_pred_scaled)\n",
    "y_test_actual = target_scaler.inverse_transform(y_test)"
   ]
  },
  {
   "cell_type": "markdown",
   "id": "cd783360-88d6-44a2-b373-73f318af0150",
   "metadata": {},
   "source": [
    "# evaluating the LSTM model"
   ]
  },
  {
   "cell_type": "code",
   "execution_count": 60,
   "id": "364e65d2",
   "metadata": {},
   "outputs": [
    {
     "name": "stdout",
     "output_type": "stream",
     "text": [
      "\n",
      "Model Performance Metrics:\n",
      "Root Mean Square Error: 1.23 kWh\n",
      "Mean Absolute Error: 0.96 kWh\n",
      "R-squared Score: 0.677\n",
      "Mean Absolute Percentage Error: 15.01%\n"
     ]
    }
   ],
   "source": [
    "mse = mean_squared_error(y_test_actual, y_pred)\n",
    "rmse = root_mean_squared_error(y_test_actual, y_pred)\n",
    "mae = mean_absolute_error(y_test_actual, y_pred)\n",
    "r2 = r2_score(y_test_actual, y_pred)\n",
    "mape = np.mean(np.abs((y_test_actual - y_pred) / y_test_actual)) * 100\n",
    "\n",
    "\n",
    "print(\"\\nModel Performance Metrics:\")\n",
    "print(f\"Root Mean Square Error: {rmse:.2f} kWh\")\n",
    "print(f\"Mean Absolute Error: {mae:.2f} kWh\")\n",
    "print(f\"R-squared Score: {r2:.3f}\")\n",
    "print(f\"Mean Absolute Percentage Error: {mape:.2f}%\")"
   ]
  },
  {
   "cell_type": "code",
   "execution_count": 61,
   "id": "16041271",
   "metadata": {},
   "outputs": [
    {
     "data": {
      "text/plain": [
       "count    2000.000000\n",
       "mean        7.126735\n",
       "std         2.483395\n",
       "min         2.730000\n",
       "25%         5.200000\n",
       "50%         6.460000\n",
       "75%         8.855000\n",
       "max        14.610000\n",
       "Name: Energy, dtype: float64"
      ]
     },
     "execution_count": 61,
     "metadata": {},
     "output_type": "execute_result"
    }
   ],
   "source": [
    "y.describe()"
   ]
  },
  {
   "cell_type": "markdown",
   "id": "6fccfb4e",
   "metadata": {},
   "source": [
    "#### **1. Root Mean Square Error (RMSE): 1.22 kWh**\n",
    "- The RMSE represents the average error between predicted and actual energy values. \n",
    "- Considering the target variable has a **mean of 7.13 kWh** and a **standard deviation of 2.48 kWh**, an error of **1.22 kWh** is moderate. It’s less than half of the standard deviation, which means the model is reasonably good at capturing the variability in energy consumption.\n",
    "\n",
    "#### **2. Mean Absolute Error (MAE): 0.98 kWh**\n",
    "- The MAE (0.98 kWh) suggests the model’s predictions are, on average, off by about **14% of the mean energy value (7.13 kWh)**.\n",
    "- This level of error is acceptable for many practical scenarios, especially in cases where small deviations in energy predictions don’t significantly affect outcomes.\n",
    "\n",
    "#### **3. R-squared Score (R²): 0.680**\n",
    "- With **68% of variance explained**, the model is performing decently. However, it still leaves **32% of variability** unexplained, which might be addressed by better features, architecture, or additional training data.\n",
    "\n",
    "#### **4. Mean Absolute Percentage Error (MAPE): 15.06%**\n",
    "- A 15% error suggests that, on average, the model’s predictions deviate from actual values by this percentage. \n",
    "- Considering the descriptive stats, this level of error is reasonable but could be better if you aim for higher precision.\n",
    "\n",
    "---\n",
    "\n",
    "Given the target variable ranges between **2.73 kWh** and **14.61 kWh**, the model’s error metrics are **practical for general predictions** but **not ideal for tasks requiring high accuracy.** For instance:\n",
    "- If predicting energy to allocate resources, this is fine.\n",
    "- If exact energy usage matters for billing or optimization, this model might need refinement."
   ]
  },
  {
   "cell_type": "code",
   "execution_count": 63,
   "id": "581fff41-c8f7-479e-b133-d108848a6a32",
   "metadata": {},
   "outputs": [
    {
     "data": {
      "image/png": "[encoded data removed]",
      "text/plain": [
       "<Figure size 1200x400 with 1 Axes>"
      ]
     },
     "metadata": {},
     "output_type": "display_data"
    },
    {
     "data": {
      "image/png": "[encoded data removed]",
      "text/plain": [
       "<Figure size 1500x600 with 1 Axes>"
      ]
     },
     "metadata": {},
     "output_type": "display_data"
    }
   ],
   "source": [
    "def plot_training_history(history):\n",
    "    plt.figure(figsize=(12, 4))\n",
    "    plt.plot(history.history['loss'], label='Training Loss')\n",
    "    plt.plot(history.history['val_loss'], label='Validation Loss')\n",
    "    plt.title('Model Training History')\n",
    "    plt.xlabel('Epoch')\n",
    "    plt.ylabel('Loss')\n",
    "    plt.legend()\n",
    "    plt.grid(True)\n",
    "    plt.show()\n",
    "\n",
    "def plot_predictions(y_test_actual, y_pred, num_points=200):\n",
    "    plt.figure(figsize=(15, 6))\n",
    "    plt.plot(y_test_actual[:num_points], label='Actual', alpha=0.7)\n",
    "    plt.plot(y_pred[:num_points], label='Predicted', alpha=0.7)\n",
    "    plt.title('Energy Consumption: Actual vs Predicted')\n",
    "    plt.xlabel('Time Steps')\n",
    "    plt.ylabel('Energy (kWh)')\n",
    "    plt.legend()\n",
    "    plt.grid(True)\n",
    "    plt.show()\n",
    "\n",
    "\n",
    "\n",
    "\n",
    "plot_training_history(history)\n",
    "plot_predictions(y_test_actual, y_pred)"
   ]
  },
  {
   "cell_type": "code",
   "execution_count": 64,
   "id": "3eb69f4c",
   "metadata": {},
   "outputs": [
    {
     "name": "stdout",
     "output_type": "stream",
     "text": [
      "Let's see further Analysis and predicton Interval:\n",
      "Average Actual Energy Consumption: 6.99 kWh\n",
      "Average Predicted Energy Consumption: 7.16 kWh\n",
      "Standard Deviation of Actual Values: 2.16 kWh\n",
      "Standard Deviation of Predicted Values: 1.72 kWh\n",
      "\n",
      "Prediction Interval (95% confidence): ±2.38 kWh\n"
     ]
    }
   ],
   "source": [
    "print(\"Let's see further Analysis and predicton Interval:\")\n",
    "print(f\"Average Actual Energy Consumption: {np.mean(y_test_actual):.2f} kWh\")\n",
    "print(f\"Average Predicted Energy Consumption: {np.mean(y_pred):.2f} kWh\")\n",
    "print(f\"Standard Deviation of Actual Values: {np.std(y_test_actual):.2f} kWh\")\n",
    "print(f\"Standard Deviation of Predicted Values: {np.std(y_pred):.2f} kWh\")\n",
    "\n",
    "residuals = y_test_actual - y_pred\n",
    "prediction_std = np.std(residuals)\n",
    "confidence_interval = 1.96 * prediction_std  # 95% confidence interval\n",
    "print(f\"\\nPrediction Interval (95% confidence): ±{confidence_interval:.2f} kWh\")"
   ]
  },
  {
   "cell_type": "markdown",
   "id": "9eca246e",
   "metadata": {},
   "source": [
    "# Saving the LSTM model"
   ]
  },
  {
   "cell_type": "code",
   "execution_count": 65,
   "id": "7906f6a6-1bf2-4401-96c0-d5bd3b7f6cbd",
   "metadata": {},
   "outputs": [
    {
     "name": "stdout",
     "output_type": "stream",
     "text": [
      "###################### saving the LSTM Model #########################\n",
      "\n",
      "Model saved as 'third_model.keras'\n"
     ]
    }
   ],
   "source": [
    "print('###################### saving the LSTM Model #########################')\n",
    "\n",
    "keras.saving.save_model(model=model, filepath='third_model.keras')\n",
    "print(\"\\nModel saved as 'third_model.keras'\")"
   ]
  },
  {
   "cell_type": "markdown",
   "id": "a79f3e46",
   "metadata": {},
   "source": [
    "# Making Inferences"
   ]
  },
  {
   "cell_type": "code",
   "execution_count": 66,
   "id": "565cd20f",
   "metadata": {},
   "outputs": [
    {
     "name": "stdout",
     "output_type": "stream",
     "text": [
      "(None, 9, 12)\n"
     ]
    }
   ],
   "source": [
    "# i imported the saved model to start with\n",
    "\n",
    "model = load_model('third_model.keras')\n",
    "print(model.input_shape)"
   ]
  },
  {
   "cell_type": "code",
   "execution_count": 17,
   "id": "cd40e033-bdb2-46ea-a13e-a4886d90f3b1",
   "metadata": {},
   "outputs": [
    {
     "name": "stdout",
     "output_type": "stream",
     "text": [
      "Enter the following details:\n",
      "\u001b[1m1/1\u001b[0m \u001b[32m━━━━━━━━━━━━━━━━━━━━\u001b[0m\u001b[37m\u001b[0m \u001b[1m2s\u001b[0m 2s/step\n",
      "\n",
      "Predicted Energy: 4.69 kWh\n"
     ]
    }
   ],
   "source": [
    "def preprocess_and_predict(model, user_input, feature_scaler, target_scaler, target_encoder):\n",
    "    \"\"\"\n",
    "    Preprocess user input with target encoding and predict energy using the trained LSTM model.\n",
    "\n",
    "    Args:\n",
    "    - model: Trained LSTM model.\n",
    "    - user_input: Dictionary with user inputs for raw features.\n",
    "    - feature_scaler: Fitted MinMaxScaler for feature scaling.\n",
    "    - target_scaler: Fitted MinMaxScaler for target scaling.\n",
    "    - target_encoder: Fitted TargetEncoder for encoding categorical features.\n",
    "\n",
    "    Returns:\n",
    "    - Predicted energy value (inverse scaled).\n",
    "    \"\"\"\n",
    "    \n",
    "    \n",
    "    input_df = pd.DataFrame([user_input])\n",
    "\n",
    "    # Convert Time to \"Minutes since midnight\"\n",
    "    input_df['Minutes'] = pd.to_datetime(input_df['Time'], format='%H:%M').dt.hour * 60 + pd.to_datetime(input_df['Time'], format='%H:%M').dt.minute\n",
    "\n",
    "    # Drop the original 'Time' column\n",
    "    input_df = input_df.drop(columns=['Time'])\n",
    "\n",
    "    # Target encode the 'Day' column\n",
    "    input_df['Day'] = target_encoder.transform(input_df['Day'])\n",
    "    \n",
    "    feature_order = ['Minutes', 'Temp', 'Humidity', 'Light_Intensity', 'Occupancy', 'Day']\n",
    "    input_df = input_df[feature_order]\n",
    "\n",
    "    # Scale features\n",
    "    scaled_features = feature_scaler.transform(input_df)\n",
    "    scaled_features = scaled_features.reshape(1, 1, -1)\n",
    "\n",
    "    # Make & Inverse scale the prediction\n",
    "    scaled_prediction = model.predict(scaled_features)\n",
    "\n",
    "    predicted_energy = target_scaler.inverse_transform(scaled_prediction)[0][0]\n",
    "    return predicted_energy\n",
    "\n",
    "\n",
    "\n",
    "print(\"Enter the following details:\")\n",
    "time = input(\"Time (e.g., 09:30, 14:00): \")\n",
    "day = input(\"Day (e.g., Monday, Tuesday): \")\n",
    "temp = float(input(\"Temperature (°C) (between 15.00 and 35.00): \"))\n",
    "humidity = float(input(\"Humidity (%): \"))\n",
    "light_intensity = float(input(\"Light Intensity (0 to 1000): \"))\n",
    "occupancy = int(input(\"Occupancy (0 or 1): \"))\n",
    "\n",
    "\n",
    "user_input = {\n",
    "    \"Time\": time,\n",
    "    \"Day\": day,\n",
    "    \"Temp\": temp,\n",
    "    \"Humidity\": humidity,\n",
    "    \"Light_Intensity\": light_intensity,\n",
    "    \"Occupancy\": occupancy\n",
    "}\n",
    "\n",
    "\n",
    "predicted_energy = preprocess_and_predict(model, user_input, feature_scaler, target_scaler, target_encoder)\n",
    "print(f\"\\nPredicted Energy: {predicted_energy:.2f} kWh\")"
   ]
  },
  {
   "cell_type": "code",
   "execution_count": null,
   "id": "86fd3534",
   "metadata": {},
   "outputs": [],
   "source": []
  }
 ],
 "metadata": {
  "kernelspec": {
   "display_name": "raqib",
   "language": "python",
   "name": "python3"
  },
  "language_info": {
   "codemirror_mode": {
    "name": "ipython",
    "version": 3
   },
   "file_extension": ".py",
   "mimetype": "text/x-python",
   "name": "python",
   "nbconvert_exporter": "python",
   "pygments_lexer": "ipython3",
   "version": "3.9.19"
  }
 },
 "nbformat": 4,
 "nbformat_minor": 5
}
